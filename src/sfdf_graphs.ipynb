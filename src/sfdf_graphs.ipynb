{
 "cells": [
  {
   "cell_type": "code",
   "execution_count": 1,
   "metadata": {
    "autoscroll": "json-false",
    "collapsed": false,
    "deletable": true,
    "editable": true,
    "ein.tags": [
     "worksheet-0"
    ],
    "slideshow": {
     "slide_type": "-"
    }
   },
   "outputs": [],
   "source": [
    "import pandas as pd\n",
    "import ggplot as gg\n",
    "import numpy as np"
   ]
  },
  {
   "cell_type": "code",
   "execution_count": 2,
   "metadata": {
    "autoscroll": "json-false",
    "collapsed": false,
    "deletable": true,
    "editable": true,
    "ein.tags": [
     "worksheet-0"
    ],
    "slideshow": {
     "slide_type": "-"
    }
   },
   "outputs": [
    {
     "name": "stderr",
     "output_type": "stream",
     "text": [
      "/Users/trevor/Code/datasci-sba-problem-2/lib/python3.6/site-packages/IPython/core/interactiveshell.py:2717: DtypeWarning: Columns (11,12,13,19) have mixed types. Specify dtype option on import or set low_memory=False.\n",
      "  interactivity=interactivity, compiler=compiler, result=result)\n"
     ]
    }
   ],
   "source": [
    "df = pd.read_csv('data/FOIA - 504 (FY1991-Present).csv')\n",
    "df.columns = [c.lower().replace(' ', '_') for c in df.columns]\n",
    "df.sbadistrictoffice = df.sbadistrictoffice.str.replace('\\xa0', '')"
   ]
  },
  {
   "cell_type": "code",
   "execution_count": 3,
   "metadata": {
    "autoscroll": "json-false",
    "collapsed": false,
    "deletable": true,
    "editable": true,
    "ein.tags": [
     "worksheet-0"
    ],
    "slideshow": {
     "slide_type": "-"
    }
   },
   "outputs": [],
   "source": [
    "sfdf = df.loc[df.sbadistrictoffice == 'SAN FRANCISCO DISTRICT OFFICE']"
   ]
  },
  {
   "cell_type": "code",
   "execution_count": 4,
   "metadata": {
    "autoscroll": "json-false",
    "collapsed": false,
    "deletable": true,
    "editable": true,
    "ein.tags": [
     "worksheet-0"
    ],
    "slideshow": {
     "slide_type": "-"
    }
   },
   "outputs": [
    {
     "data": {
      "text/html": [
       "<div>\n",
       "<table border=\"1\" class=\"dataframe\">\n",
       "  <thead>\n",
       "    <tr style=\"text-align: right;\">\n",
       "      <th></th>\n",
       "      <th>program</th>\n",
       "      <th>borrname</th>\n",
       "      <th>borrstreet</th>\n",
       "      <th>borrcity</th>\n",
       "      <th>borrstate</th>\n",
       "      <th>borrzip</th>\n",
       "      <th>cdc_name</th>\n",
       "      <th>cdc_street</th>\n",
       "      <th>cdc_city</th>\n",
       "      <th>cdc_state</th>\n",
       "      <th>...</th>\n",
       "      <th>franchisename</th>\n",
       "      <th>projectcounty</th>\n",
       "      <th>projectstate</th>\n",
       "      <th>sbadistrictoffice</th>\n",
       "      <th>congressionaldistrict</th>\n",
       "      <th>businesstype</th>\n",
       "      <th>loanstatus</th>\n",
       "      <th>chargeoffdate</th>\n",
       "      <th>grosschargeoffamount</th>\n",
       "      <th>jobssupported</th>\n",
       "    </tr>\n",
       "  </thead>\n",
       "  <tbody>\n",
       "    <tr>\n",
       "      <th>24</th>\n",
       "      <td>504</td>\n",
       "      <td>BAY AREA DRILLING</td>\n",
       "      <td>549 GARCIA AVENUE, LOTS 6,7</td>\n",
       "      <td>PITTSBURG</td>\n",
       "      <td>CA</td>\n",
       "      <td>94565</td>\n",
       "      <td>Bay Area Employment Development Company</td>\n",
       "      <td>1801 Oakland Boulevard</td>\n",
       "      <td>Walnut Creek</td>\n",
       "      <td>CA</td>\n",
       "      <td>...</td>\n",
       "      <td>NaN</td>\n",
       "      <td>CONTRA COSTA</td>\n",
       "      <td>CA</td>\n",
       "      <td>SAN FRANCISCO DISTRICT OFFICE</td>\n",
       "      <td>11.0</td>\n",
       "      <td>INDIVIDUAL</td>\n",
       "      <td>PIF</td>\n",
       "      <td>NaN</td>\n",
       "      <td>0</td>\n",
       "      <td>16</td>\n",
       "    </tr>\n",
       "    <tr>\n",
       "      <th>102</th>\n",
       "      <td>504</td>\n",
       "      <td>ARCHITECTURAL ART MFG, INC</td>\n",
       "      <td>7755 PARDEE LANE, STE E</td>\n",
       "      <td>OAKLAND</td>\n",
       "      <td>CA</td>\n",
       "      <td>94621</td>\n",
       "      <td>Bay Area Employment Development Company</td>\n",
       "      <td>1801 Oakland Boulevard</td>\n",
       "      <td>Walnut Creek</td>\n",
       "      <td>CA</td>\n",
       "      <td>...</td>\n",
       "      <td>NaN</td>\n",
       "      <td>LAKE</td>\n",
       "      <td>CA</td>\n",
       "      <td>SAN FRANCISCO DISTRICT OFFICE</td>\n",
       "      <td>13.0</td>\n",
       "      <td>CORPORATION</td>\n",
       "      <td>PIF</td>\n",
       "      <td>NaN</td>\n",
       "      <td>0</td>\n",
       "      <td>23</td>\n",
       "    </tr>\n",
       "    <tr>\n",
       "      <th>262</th>\n",
       "      <td>504</td>\n",
       "      <td>GREEN VALLEY FOODS, INC.</td>\n",
       "      <td>1985 TEXAS STREETG</td>\n",
       "      <td>FAIRFIELD</td>\n",
       "      <td>CA</td>\n",
       "      <td>94533</td>\n",
       "      <td>SBA - EDF Enforcement Action</td>\n",
       "      <td>SBA Denver Finance Center</td>\n",
       "      <td>Denver</td>\n",
       "      <td>CO</td>\n",
       "      <td>...</td>\n",
       "      <td>EL POLLO LOCO</td>\n",
       "      <td>SOLANO</td>\n",
       "      <td>CA</td>\n",
       "      <td>SAN FRANCISCO DISTRICT OFFICE</td>\n",
       "      <td>3.0</td>\n",
       "      <td>CORPORATION</td>\n",
       "      <td>CANCLD</td>\n",
       "      <td>NaN</td>\n",
       "      <td>0</td>\n",
       "      <td>34</td>\n",
       "    </tr>\n",
       "    <tr>\n",
       "      <th>320</th>\n",
       "      <td>504</td>\n",
       "      <td>DIGICOM SYSTEMS, INC.</td>\n",
       "      <td>182 TOPAZ STREET</td>\n",
       "      <td>MILPITAS</td>\n",
       "      <td>CA</td>\n",
       "      <td>95035</td>\n",
       "      <td>Mortgage Capital Development Corporation</td>\n",
       "      <td>1720 Broadway</td>\n",
       "      <td>Oakland</td>\n",
       "      <td>CA</td>\n",
       "      <td>...</td>\n",
       "      <td>NaN</td>\n",
       "      <td>SANTA CLARA</td>\n",
       "      <td>CA</td>\n",
       "      <td>SAN FRANCISCO DISTRICT OFFICE</td>\n",
       "      <td>17.0</td>\n",
       "      <td>CORPORATION</td>\n",
       "      <td>PIF</td>\n",
       "      <td>NaN</td>\n",
       "      <td>0</td>\n",
       "      <td>60</td>\n",
       "    </tr>\n",
       "    <tr>\n",
       "      <th>546</th>\n",
       "      <td>504</td>\n",
       "      <td>PATSON'S PRESS, INC.</td>\n",
       "      <td>508 TASMAN</td>\n",
       "      <td>SUNNYVALE</td>\n",
       "      <td>CA</td>\n",
       "      <td>94089</td>\n",
       "      <td>Capital Access Group, Inc.</td>\n",
       "      <td>150 California Street</td>\n",
       "      <td>San Francisco</td>\n",
       "      <td>CA</td>\n",
       "      <td>...</td>\n",
       "      <td>NaN</td>\n",
       "      <td>SANTA CLARA</td>\n",
       "      <td>CA</td>\n",
       "      <td>SAN FRANCISCO DISTRICT OFFICE</td>\n",
       "      <td>17.0</td>\n",
       "      <td>CORPORATION</td>\n",
       "      <td>PIF</td>\n",
       "      <td>NaN</td>\n",
       "      <td>0</td>\n",
       "      <td>112</td>\n",
       "    </tr>\n",
       "  </tbody>\n",
       "</table>\n",
       "<p>5 rows × 36 columns</p>\n",
       "</div>"
      ],
      "text/plain": [
       "     program                    borrname                   borrstreet  \\\n",
       "24       504           BAY AREA DRILLING  549 GARCIA AVENUE, LOTS 6,7   \n",
       "102      504  ARCHITECTURAL ART MFG, INC      7755 PARDEE LANE, STE E   \n",
       "262      504    GREEN VALLEY FOODS, INC.           1985 TEXAS STREETG   \n",
       "320      504       DIGICOM SYSTEMS, INC.             182 TOPAZ STREET   \n",
       "546      504        PATSON'S PRESS, INC.                   508 TASMAN   \n",
       "\n",
       "      borrcity borrstate  borrzip                                  cdc_name  \\\n",
       "24   PITTSBURG        CA    94565   Bay Area Employment Development Company   \n",
       "102    OAKLAND        CA    94621   Bay Area Employment Development Company   \n",
       "262  FAIRFIELD        CA    94533              SBA - EDF Enforcement Action   \n",
       "320   MILPITAS        CA    95035  Mortgage Capital Development Corporation   \n",
       "546  SUNNYVALE        CA    94089                Capital Access Group, Inc.   \n",
       "\n",
       "                    cdc_street       cdc_city cdc_state      ...       \\\n",
       "24      1801 Oakland Boulevard   Walnut Creek        CA      ...        \n",
       "102     1801 Oakland Boulevard   Walnut Creek        CA      ...        \n",
       "262  SBA Denver Finance Center         Denver        CO      ...        \n",
       "320              1720 Broadway        Oakland        CA      ...        \n",
       "546      150 California Street  San Francisco        CA      ...        \n",
       "\n",
       "     franchisename projectcounty projectstate              sbadistrictoffice  \\\n",
       "24             NaN  CONTRA COSTA           CA  SAN FRANCISCO DISTRICT OFFICE   \n",
       "102            NaN          LAKE           CA  SAN FRANCISCO DISTRICT OFFICE   \n",
       "262  EL POLLO LOCO        SOLANO           CA  SAN FRANCISCO DISTRICT OFFICE   \n",
       "320            NaN   SANTA CLARA           CA  SAN FRANCISCO DISTRICT OFFICE   \n",
       "546            NaN   SANTA CLARA           CA  SAN FRANCISCO DISTRICT OFFICE   \n",
       "\n",
       "     congressionaldistrict  businesstype loanstatus  chargeoffdate  \\\n",
       "24                    11.0    INDIVIDUAL        PIF            NaN   \n",
       "102                   13.0   CORPORATION        PIF            NaN   \n",
       "262                    3.0   CORPORATION     CANCLD            NaN   \n",
       "320                   17.0   CORPORATION        PIF            NaN   \n",
       "546                   17.0   CORPORATION        PIF            NaN   \n",
       "\n",
       "    grosschargeoffamount jobssupported  \n",
       "24                     0            16  \n",
       "102                    0            23  \n",
       "262                    0            34  \n",
       "320                    0            60  \n",
       "546                    0           112  \n",
       "\n",
       "[5 rows x 36 columns]"
      ]
     },
     "execution_count": 4,
     "metadata": {},
     "output_type": "execute_result"
    }
   ],
   "source": [
    "sfdf.head()"
   ]
  },
  {
   "cell_type": "code",
   "execution_count": 5,
   "metadata": {
    "autoscroll": "json-false",
    "collapsed": false,
    "deletable": true,
    "editable": true,
    "ein.tags": [
     "worksheet-0"
    ],
    "slideshow": {
     "slide_type": "-"
    }
   },
   "outputs": [
    {
     "data": {
      "text/plain": [
       "['program',\n",
       " 'borrname',\n",
       " 'borrstreet',\n",
       " 'borrcity',\n",
       " 'borrstate',\n",
       " 'borrzip',\n",
       " 'cdc_name',\n",
       " 'cdc_street',\n",
       " 'cdc_city',\n",
       " 'cdc_state',\n",
       " 'cdc_zip',\n",
       " 'thirdpartylender_name',\n",
       " 'thirdpartylender_city',\n",
       " 'thirdpartylender_state',\n",
       " 'thirdpartydollars',\n",
       " 'grossapproval',\n",
       " 'approvaldate',\n",
       " 'approvalfiscalyear',\n",
       " 'firstdisbursementdate',\n",
       " 'deliverymethod',\n",
       " 'subpgmdesc',\n",
       " 'initialinterestrate',\n",
       " 'terminmonths',\n",
       " 'naicscode',\n",
       " 'naicsdescription',\n",
       " 'franchisecode',\n",
       " 'franchisename',\n",
       " 'projectcounty',\n",
       " 'projectstate',\n",
       " 'sbadistrictoffice',\n",
       " 'congressionaldistrict',\n",
       " 'businesstype',\n",
       " 'loanstatus',\n",
       " 'chargeoffdate',\n",
       " 'grosschargeoffamount',\n",
       " 'jobssupported']"
      ]
     },
     "execution_count": 5,
     "metadata": {},
     "output_type": "execute_result"
    }
   ],
   "source": [
    "sfdf.columns.values.tolist()"
   ]
  },
  {
   "cell_type": "code",
   "execution_count": 6,
   "metadata": {
    "autoscroll": "json-false",
    "collapsed": false,
    "deletable": true,
    "editable": true,
    "ein.tags": [
     "worksheet-0"
    ],
    "slideshow": {
     "slide_type": "-"
    }
   },
   "outputs": [],
   "source": [
    "p = gg.ggplot(gg.aes(x='approvalfiscalyear'), data=sfdf)"
   ]
  },
  {
   "cell_type": "code",
   "execution_count": 7,
   "metadata": {
    "autoscroll": "json-false",
    "collapsed": false,
    "deletable": true,
    "editable": true,
    "ein.tags": [
     "worksheet-0"
    ],
    "slideshow": {
     "slide_type": "-"
    }
   },
   "outputs": [
    {
     "data": {
      "image/png": "[encoded data removed]",
      "text/plain": [
       "<matplotlib.figure.Figure at 0x11ad5bf60>"
      ]
     },
     "metadata": {},
     "output_type": "display_data"
    },
    {
     "data": {
      "text/plain": [
       "<ggplot: (296573893)>"
      ]
     },
     "execution_count": 7,
     "metadata": {},
     "output_type": "execute_result"
    }
   ],
   "source": [
    "p + gg.geom_histogram(binwidth=1)"
   ]
  },
  {
   "cell_type": "code",
   "execution_count": 8,
   "metadata": {
    "autoscroll": "json-false",
    "collapsed": false,
    "deletable": true,
    "editable": true,
    "ein.tags": [
     "worksheet-0"
    ],
    "slideshow": {
     "slide_type": "-"
    }
   },
   "outputs": [],
   "source": [
    "grouped = sfdf.groupby('approvalfiscalyear', as_index=False)"
   ]
  },
  {
   "cell_type": "code",
   "execution_count": 9,
   "metadata": {
    "autoscroll": "json-false",
    "collapsed": false,
    "deletable": true,
    "editable": true,
    "ein.tags": [
     "worksheet-0"
    ],
    "slideshow": {
     "slide_type": "-"
    }
   },
   "outputs": [],
   "source": [
    "p = gg.ggplot(gg.aes(x='approvalfiscalyear', y='grossapproval'), data=grouped['grossapproval'].agg(np.mean))"
   ]
  },
  {
   "cell_type": "code",
   "execution_count": 10,
   "metadata": {
    "autoscroll": "json-false",
    "collapsed": false,
    "deletable": true,
    "editable": true,
    "ein.tags": [
     "worksheet-0"
    ],
    "slideshow": {
     "slide_type": "-"
    }
   },
   "outputs": [
    {
     "data": {
      "image/png": "[encoded data removed]",
      "text/plain": [
       "<matplotlib.figure.Figure at 0x1161ea898>"
      ]
     },
     "metadata": {},
     "output_type": "display_data"
    },
    {
     "data": {
      "text/plain": [
       "<ggplot: (291610488)>"
      ]
     },
     "execution_count": 10,
     "metadata": {},
     "output_type": "execute_result"
    }
   ],
   "source": [
    "p + gg.geom_point()"
   ]
  },
  {
   "cell_type": "code",
   "execution_count": null,
   "metadata": {
    "autoscroll": "json-false",
    "collapsed": false,
    "deletable": true,
    "editable": true,
    "ein.tags": [
     "worksheet-0"
    ],
    "slideshow": {
     "slide_type": "-"
    }
   },
   "outputs": [],
   "source": []
  }
 ],
 "metadata": {
  "kernelspec": {
   "display_name": "Python 3",
   "language": "python",
   "name": "python3"
  },
  "language_info": {
   "codemirror_mode": {
    "name": "ipython",
    "version": 3
   },
   "file_extension": ".py",
   "mimetype": "text/x-python",
   "name": "python",
   "nbconvert_exporter": "python",
   "pygments_lexer": "ipython3",
   "version": "3.6.0"
  }
 },
 "nbformat": 4,
 "nbformat_minor": 2
}
