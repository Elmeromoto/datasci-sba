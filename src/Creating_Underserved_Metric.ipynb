{
 "cells": [
  {
   "cell_type": "markdown",
   "metadata": {},
   "source": [
    "# Creating Metric for (Over)Underserved Communities for the SBA"
   ]
  },
  {
   "cell_type": "markdown",
   "metadata": {},
   "source": [
    "This notebook will create the metric for over/underserved communities in the areas servied by the SF District SBA office. We define the metric as number of approved loans divided by total number of businesses in the area. To start, we will use \"incorporated places\" as the unit of geography that we're interested in."
   ]
  },
  {
   "cell_type": "code",
   "execution_count": 39,
   "metadata": {
    "collapsed": false
   },
   "outputs": [],
   "source": [
    "%matplotlib inline\n",
    "\n",
    "import pandas as pd\n",
    "import statsmodels.formula.api as smf\n",
    "import matplotlib.pylab as plt\n",
    "import csv\n",
    "import folium\n",
    "from pylab import *"
   ]
  },
  {
   "cell_type": "code",
   "execution_count": 40,
   "metadata": {
    "collapsed": false
   },
   "outputs": [],
   "source": [
    "pd.set_option('display.max_columns', None)"
   ]
  },
  {
   "cell_type": "code",
   "execution_count": 41,
   "metadata": {
    "collapsed": false
   },
   "outputs": [],
   "source": [
    "df = pd.read_csv('./data/SFDO_504_7A-clean.csv')\n",
    "city_profile = pd.read_excel('./data/0912 - City Profiles.xlsx')"
   ]
  },
  {
   "cell_type": "markdown",
   "metadata": {},
   "source": [
    "## Exploring the Data"
   ]
  },
  {
   "cell_type": "code",
   "execution_count": 8,
   "metadata": {
    "collapsed": false
   },
   "outputs": [
    {
     "data": {
      "text/plain": [
       "(44186, 39)"
      ]
     },
     "execution_count": 8,
     "metadata": {},
     "output_type": "execute_result"
    }
   ],
   "source": [
    "df.shape"
   ]
  },
  {
   "cell_type": "code",
   "execution_count": 25,
   "metadata": {
    "collapsed": false
   },
   "outputs": [
    {
     "name": "stdout",
     "output_type": "stream",
     "text": [
      "Different types of Businesses\n",
      "['INDIVIDUAL' 'CORPORATION' 'PARTNERSHIP' nan]\n",
      "Different Loan Statuses\n",
      "['CHGOFF' 'PIF' 'CANCLD' 'EXEMPT' 'COMMIT' nan 'NOT FUNDED']\n",
      "Different Cities\n",
      "['YOUNTVILLE' 'YORKVILLE' nan 'WOODSIDE' 'WOODLAND HILLS' 'WOODLAND'\n",
      " 'WOODACRE' 'WINDSOR' 'WILTON' 'WILLOW CREEK' 'WILLITS' 'WHITETHORN'\n",
      " 'WESTPORT' 'WESTLEY' 'WEST SACRAMENTO' 'WEST PITTSBURG' 'WEST HOLLYWOOD'\n",
      " 'WEST GUERNEWOOD' 'WATSONVILLE' 'WARM SPRINGS' 'WALNUT CREEK'\n",
      " 'VINTAGE WAY' 'VAN NUYS' 'VALLEY FORD' 'VALLEJO' 'VACAVILLE' 'UPPER LAKE'\n",
      " 'UNION CITY' 'UKIAH' 'TURLOCK' 'TRUCKEE' 'TRINIDAD' 'TRACY' 'TORRENCE'\n",
      " 'TOMALES' 'TIBURON' 'SUNOL' 'SUNNYVALE' 'SUISUN CITY' 'STONERIDGE MALL'\n",
      " 'STOCKTON' 'STINSON BEACH' 'STANFORD' 'SPRING VALLEY'\n",
      " 'SOUTH SAN FRANCISCO' 'SOUTH LAKE TAHOE' 'SOQUEL' 'SONOMA' 'SOLONO'\n",
      " 'SMITH RIVER' 'SHELTER COVE' 'SHASTA LAKE' 'SEBASTOPOL' 'SEBASTIANI'\n",
      " 'SEA RANCH' 'SCOTTS VALLEY' 'SCOTIA' 'SAUSALITO' 'SARATOGA' 'SANTA ROSA'\n",
      " 'SANTA MONICA' 'SANTA MARIA' 'SANTA CRUZ' 'SANTA CLARA' 'SANTA BARBARA'\n",
      " 'SANTA ANA' 'SAN RAPHREL' 'SAN RAMON' 'SAN RAFAEL' 'SAN QUENTIN'\n",
      " 'SAN PABLO' 'SAN MATEO' 'SAN MARTIN' 'SAN MARCOS' 'SAN LUIS OBISPO'\n",
      " 'SAN LORENZO' 'SAN LEANDRO' 'SAN JUAN CAPISTRANO' 'SAN JUAN BAUTISTA'\n",
      " 'SAN JOSE' 'SAN GREGORIO' 'SAN GERONIMO'\n",
      " 'SAN FRANCISCO INTERNATIONAL AIRPORT' 'SAN FRANCISCO' 'SAN DIEGO'\n",
      " 'SAN CARLOS' 'SAN BRUNO' 'SAN ANSELMO' 'SAMOA' 'SALINAS' 'SALIDA'\n",
      " 'SAINT JAMES PARK' 'SAINT HELENA' 'SACRAMENTO' 'RUTHERFORD' 'ROYAL OAKS'\n",
      " 'ROSS' 'ROSEVILLE' 'ROHNERT PARK' 'ROHNERT' 'RODEO' 'ROCKLIN' 'ROBERT'\n",
      " 'RIVERSIDE' 'RIO VISTA' 'RIO LINDA' 'RIO DELL' 'RIDGECREST' 'RICHMOND'\n",
      " 'RENO' 'REDWOOD VALLEY' 'REDWOOD SHORES' 'REDWOOD ESTATES' 'REDWOOD CITY'\n",
      " 'REDLANDS' 'REDDING' 'REDCREST' 'RAVENSWOOD' 'RANCHO PALO VERDES'\n",
      " 'RANCHO CORDOVA' 'CONCORD' 'PRINCETON-BY-THE-SEA' 'PRINCETON'\n",
      " 'POTTER VALLEY' 'PORTOLA VALLEY' 'PORTLAND' 'PORT RICHMOND' 'PORT COSTA'\n",
      " 'POPE VALLEY' 'POINT RICHMOND' 'POINT REYES STATION' 'POINT ARENA'\n",
      " 'PLEASANTON' 'PLEASANT HILL' 'PLACERVILLE' 'PLACENTIA' 'PITTSBURG'\n",
      " 'PINOLE' 'PIERCY' 'PIEDMONT' 'PHILO' 'PETROLIA' 'PETALUMA' 'PESCADERO'\n",
      " 'PENNGROVE' 'PALO ALTO' 'PALM DESERT' 'PACIFICA' 'PACIFIC MANOR' 'PACHECO'\n",
      " 'ORLEANS' 'ORINDA' 'ORICK' 'OLEMA' 'OCCIDENTAL' 'OAKLEY' 'OAKLAND'\n",
      " 'OAKDALE' 'NUT TREE' 'NOVATO' 'NORTHRIDGE' 'NORTH HIGHLANDS' 'NICE'\n",
      " 'NICASIO' 'NEWPORT BEACH' 'NEWARK' 'NEW ALMADEN' 'NAPA' 'MYERS FLAT'\n",
      " 'MOUNTAIN VIEW' 'MOUNTAIN HOUSE' 'MOSS BEACH' 'MORGAN HILL' 'MORAGA TOWN'\n",
      " 'MORAGA' 'MONTEREY' 'MONTE SERENO' 'MONTE RIO' 'MONTARA' 'MONROVIA'\n",
      " 'MODESTO' 'MIRANDA' 'MIRAMAR' 'MILPITAS' 'MILLBRAE' 'MILL VALLEY' 'MILL'\n",
      " 'MIDDLETOWN' 'MENLO PARK' 'MENDOCINO' 'MERCED' 'MCKINLEYVILLE' 'MARTINEZ'\n",
      " 'MARSHALL' 'MARIN CITY' 'MARE ISLAND NAVAL SHIPYARD' 'MANILA' 'MANCHESTER'\n",
      " 'MADERA' 'LUCERNE' 'LOWER LAKE' 'LOS GATOS' 'LOS BANOS' 'LOS ALTOS'\n",
      " 'LOS ALAMITOS' 'LOLETA' 'LODI' 'LIVERMORE' 'LITTLE RIVER' 'LINCOLN'\n",
      " 'LEMOORE' 'LEGGETT' 'LEANDRO' 'LAYTONVILLE' 'LATHROP' 'LARKSPUR'\n",
      " 'LAKEPORT' 'LAKEHEAD' 'LAFAYETTE' 'LA SELVA BEACH' 'LA PUENTE' 'LA HONDA'\n",
      " 'KORBAL' 'KNIGHTSEN' 'KNEELAND' 'KLAMATH' 'KENWOOD' 'KENTFIELD'\n",
      " 'KENSINGTON' 'KELSEYVILLE' 'JENNER' 'IONE' 'INVERNESS' 'HYDESVILLE'\n",
      " 'HUNTINGTON BEACH' 'HUGHSON' 'HOPLAND' 'HOLLISTER' 'HIOUCHI'\n",
      " 'HILLSBOROUGH' 'HIDDEN VALLEY LAKE' 'HERCULES' 'HELENA' 'HEALDSBURG'\n",
      " 'HAYWARD' 'HANFORD' 'HALF MOON BAY' 'GUERNEVILLE' 'GUALALA' 'GREENBRAE'\n",
      " 'GRATON' 'GRASS VALLEY' 'GLENHAVEN' 'GLEN ELLEN' 'GILROY' 'GEYSERVILLE'\n",
      " 'GASQUET' 'GARDEN GROVE' 'GARBERVILLE' 'GALINDO' 'FULTON' 'FRESNO'\n",
      " 'FRESHWATER' 'FREMONT' 'FREESTONE' 'FREEDOM' 'FOSTER CITY' 'FORTUNA'\n",
      " 'FORT SEWARD' 'FORT DICK' 'FORT BRAGG' 'FORESTVILLE' 'FOREST KNOLLS'\n",
      " 'FLINTRIDGE' 'FINLEY' 'FIELDS LANDING' 'FIELDBROOK' 'FERNDALE' 'FELTON'\n",
      " 'FAIRFIELD' 'FAIRFAX' 'FAIFEILD' 'FAIFAX' 'EUREKA' 'ESCONDIDO' 'ENCINITAS'\n",
      " 'EMERYVILLE' 'EMERALDS HILLS' 'ELMIRA' 'ELK' 'EL VERANO' 'EL SOBRANTE'\n",
      " 'EL GRANADA' 'EL CERRITO' 'EL CENTRO' 'EAST PALO ALTO' 'EAST MENLO PARK'\n",
      " 'DUNNIGAN' 'DUNCANS MILLS' 'DUBLIN' 'DIXON' 'DISCOVERY BAY' 'DINSMORE'\n",
      " 'DIABLO' 'DAVIS' 'DAVENPORT' 'DANVILLE' 'DALY CITY' 'DALY' 'CUTTEN'\n",
      " 'CUPERTINO' 'CROCKETT' 'CRESCENT CITY' 'COYOTE' 'COVELO' 'COURTLAND'\n",
      " 'COTATI' 'CORTE MADERA' 'CORRALITOS' 'CORNING' 'CORDELIA' 'CONTRA COSTA'\n",
      " 'COLMA' 'COBB' 'CLOVIS' 'CLOVERDALE' 'CLEARLAKE OAKS'\n",
      " 'CLEARLAKE HIGHLANDS' 'CLEARLAKE' 'CLAYTON' 'CITRUS HEIGHTS' 'CHULA VISTA'\n",
      " 'CHINO' 'CHATSWORTH' 'CAZADERO' 'CASTRO VALLEY' 'CASPAR'\n",
      " 'CARQUINEZ HEIGHTS' 'CARMICHAEL' 'CARMEL' 'CARLOTTA' 'CAPITOLA'\n",
      " 'CANYON COUNTRY' 'CANYON' 'CAMPBELL' 'CAMINO' 'CAMBRIAN PARK' 'CALISTOGA'\n",
      " 'CALEXICO' 'BYRON' 'BURLINGAME' 'BROOKDALE' 'BRISBANE' 'BRIDGEVILLE'\n",
      " 'BRENTWOOD' 'BREA' 'BOYES HOT SPRINGS' 'BOULDER CREEK' 'BOONVILLE'\n",
      " 'BOLINAS' 'BODEGA BAY' 'BODEGA' 'BLUE LAKE' 'BLOSSOM HILL' 'BLACKHAWK'\n",
      " 'BETHEL ISLAND' 'BERNAL' 'BERKELEY HIGHLANDS' 'BERKELEY' 'BENICIA'\n",
      " 'BEN LOMOND' 'BELVEDERE TIBURON' 'BELVEDERE' 'BELMONT' 'BELLE HAVEN'\n",
      " 'BAYSIDE' 'BAY POINT' 'AUBURN' 'ATHERTON' 'ATEO' 'ATASCADERO' 'ARCATA'\n",
      " 'APTOS' 'ANTIOCH' 'ANGWIN' 'ANGELS CAMP' 'SEBASTOLPOL' 'ANAHEIM'\n",
      " 'AMERICAN CANYON' 'ALUM ROCK' 'ALTADENA' 'ALBION' 'ALBANY' 'ALAMO'\n",
      " 'ALAMEDA']\n"
     ]
    }
   ],
   "source": [
    "print(\"Different types of Businesses\")\n",
    "print(df.BusinessType.unique())\n",
    "print(\"Different Loan Statuses\")\n",
    "print(df.LoanStatus.unique())\n",
    "print(\"Different Cities\")\n",
    "print(df.BorrCity.unique())"
   ]
  },
  {
   "cell_type": "code",
   "execution_count": 22,
   "metadata": {
    "collapsed": false
   },
   "outputs": [
    {
     "data": {
      "text/html": [
       "<div>\n",
       "<table border=\"1\" class=\"dataframe\">\n",
       "  <thead>\n",
       "    <tr style=\"text-align: right;\">\n",
       "      <th></th>\n",
       "      <th>Name</th>\n",
       "      <th>Sq Mi</th>\n",
       "      <th>Zip Codes</th>\n",
       "      <th>GeoID</th>\n",
       "      <th>County</th>\n",
       "      <th>Pop</th>\n",
       "      <th>Pop Density</th>\n",
       "      <th># of businesses (referenceUSA)</th>\n",
       "      <th># of businesses (mergent)</th>\n",
       "      <th># of businesses (census community survey)</th>\n",
       "      <th># of businesses Average</th>\n",
       "      <th># of businesses per sq. mile (referenceUSA)</th>\n",
       "      <th># of businesses per sq. mile (mergent)</th>\n",
       "      <th># of businesses per sq. mile (Census)</th>\n",
       "      <th># of businesses per sq. mile (average)</th>\n",
       "      <th>City-Lat</th>\n",
       "      <th>City-Lon</th>\n",
       "    </tr>\n",
       "  </thead>\n",
       "  <tbody>\n",
       "    <tr>\n",
       "      <th>0</th>\n",
       "      <td>Blue Lake</td>\n",
       "      <td>0.59</td>\n",
       "      <td>95525</td>\n",
       "      <td>607162</td>\n",
       "      <td>Humboldt</td>\n",
       "      <td>1253</td>\n",
       "      <td>2123.728814</td>\n",
       "      <td>67.0</td>\n",
       "      <td>185</td>\n",
       "      <td>25.0</td>\n",
       "      <td>92.333333</td>\n",
       "      <td>113.559322</td>\n",
       "      <td>313.559322</td>\n",
       "      <td>42.372881</td>\n",
       "      <td>156.497175</td>\n",
       "      <td>40.88291</td>\n",
       "      <td>-123.98395</td>\n",
       "    </tr>\n",
       "  </tbody>\n",
       "</table>\n",
       "</div>"
      ],
      "text/plain": [
       "        Name  Sq Mi Zip Codes   GeoID    County   Pop  Pop Density  \\\n",
       "0  Blue Lake   0.59     95525  607162  Humboldt  1253  2123.728814   \n",
       "\n",
       "   # of businesses (referenceUSA)  # of businesses (mergent)  \\\n",
       "0                            67.0                        185   \n",
       "\n",
       "   # of businesses (census community survey)  # of businesses Average  \\\n",
       "0                                       25.0                92.333333   \n",
       "\n",
       "   # of businesses per sq. mile (referenceUSA)  \\\n",
       "0                                   113.559322   \n",
       "\n",
       "   # of businesses per sq. mile (mergent)  \\\n",
       "0                              313.559322   \n",
       "\n",
       "   # of businesses per sq. mile (Census)  \\\n",
       "0                              42.372881   \n",
       "\n",
       "   # of businesses per sq. mile (average)  City-Lat   City-Lon  \n",
       "0                              156.497175  40.88291 -123.98395  "
      ]
     },
     "execution_count": 22,
     "metadata": {},
     "output_type": "execute_result"
    }
   ],
   "source": [
    "city_profile.head(1)"
   ]
  },
  {
   "cell_type": "code",
   "execution_count": 26,
   "metadata": {
    "collapsed": false
   },
   "outputs": [
    {
     "data": {
      "text/html": [
       "<div>\n",
       "<table border=\"1\" class=\"dataframe\">\n",
       "  <thead>\n",
       "    <tr style=\"text-align: right;\">\n",
       "      <th></th>\n",
       "      <th>Column</th>\n",
       "      <th>Program</th>\n",
       "      <th>BorrName</th>\n",
       "      <th>BorrStreet</th>\n",
       "      <th>BorrCity</th>\n",
       "      <th>BorrState</th>\n",
       "      <th>BorrZip</th>\n",
       "      <th>BankName</th>\n",
       "      <th>BankStreet</th>\n",
       "      <th>BankCity</th>\n",
       "      <th>BankState</th>\n",
       "      <th>BankZip</th>\n",
       "      <th>GrossApproval</th>\n",
       "      <th>SBAGuaranteedApproval</th>\n",
       "      <th>ApprovalDate</th>\n",
       "      <th>ApprovalFiscalYear</th>\n",
       "      <th>FirstDisbursementDate</th>\n",
       "      <th>DeliveryMethod</th>\n",
       "      <th>subpgmdesc</th>\n",
       "      <th>InitialInterestRate</th>\n",
       "      <th>TermInMonths</th>\n",
       "      <th>NaicsCode</th>\n",
       "      <th>NaicsDescription</th>\n",
       "      <th>FranchiseCode</th>\n",
       "      <th>FranchiseName</th>\n",
       "      <th>ProjectCounty</th>\n",
       "      <th>ProjectState</th>\n",
       "      <th>SBADistrictOffice</th>\n",
       "      <th>CongressionalDistrict</th>\n",
       "      <th>BusinessType</th>\n",
       "      <th>LoanStatus</th>\n",
       "      <th>ChargeOffDate</th>\n",
       "      <th>GrossChargeOffAmount</th>\n",
       "      <th>RevolverStatus</th>\n",
       "      <th>JobsSupported</th>\n",
       "      <th>ThirdPartyLender_Name</th>\n",
       "      <th>ThirdPartyLender_City</th>\n",
       "      <th>ThirdPartyLender_State</th>\n",
       "      <th>ThirdPartyDollars</th>\n",
       "    </tr>\n",
       "  </thead>\n",
       "  <tbody>\n",
       "    <tr>\n",
       "      <th>0</th>\n",
       "      <td>3098.0</td>\n",
       "      <td>7A</td>\n",
       "      <td>PER CASO PRODUCTIONS</td>\n",
       "      <td>6600 YOUNT ST #12</td>\n",
       "      <td>YOUNTVILLE</td>\n",
       "      <td>CA</td>\n",
       "      <td>94599.0</td>\n",
       "      <td>Bank of Hope</td>\n",
       "      <td>3731 Wilshire Blvd, Ste 1000</td>\n",
       "      <td>LOS ANGELES</td>\n",
       "      <td>CA</td>\n",
       "      <td>90010.0</td>\n",
       "      <td>15000.0</td>\n",
       "      <td>12750.0</td>\n",
       "      <td>9/19/2006</td>\n",
       "      <td>2006.0</td>\n",
       "      <td>9/30/2006</td>\n",
       "      <td>COMM EXPRS</td>\n",
       "      <td>Community Express</td>\n",
       "      <td>NaN</td>\n",
       "      <td>53.0</td>\n",
       "      <td>323119.0</td>\n",
       "      <td>Other Commercial Printing</td>\n",
       "      <td>0.0</td>\n",
       "      <td>NaN</td>\n",
       "      <td>NAPA</td>\n",
       "      <td>CA</td>\n",
       "      <td>SAN FRANCISCO DISTRICT OFFICE&lt;U+00A0&gt;</td>\n",
       "      <td>5.0</td>\n",
       "      <td>INDIVIDUAL</td>\n",
       "      <td>CHGOFF</td>\n",
       "      <td>6/17/2009</td>\n",
       "      <td>11775.0</td>\n",
       "      <td>0.0</td>\n",
       "      <td>2.0</td>\n",
       "      <td>NaN</td>\n",
       "      <td>NaN</td>\n",
       "      <td>NaN</td>\n",
       "      <td>NaN</td>\n",
       "    </tr>\n",
       "    <tr>\n",
       "      <th>1</th>\n",
       "      <td>4752.0</td>\n",
       "      <td>504</td>\n",
       "      <td>WINE GARDEN LLC</td>\n",
       "      <td>6476 WASHINGTON STREET</td>\n",
       "      <td>YOUNTVILLE</td>\n",
       "      <td>CA</td>\n",
       "      <td>94599.0</td>\n",
       "      <td>Bay Area Employment Development Company</td>\n",
       "      <td>1801 Oakland Boulevard</td>\n",
       "      <td>Walnut Creek</td>\n",
       "      <td>CA</td>\n",
       "      <td>94596.0</td>\n",
       "      <td>881000.0</td>\n",
       "      <td>NaN</td>\n",
       "      <td>9/22/2003</td>\n",
       "      <td>2003.0</td>\n",
       "      <td>11/17/2004</td>\n",
       "      <td>NaN</td>\n",
       "      <td>Sec. 504 - Loan Guarantees - Private Sector Fi...</td>\n",
       "      <td>NaN</td>\n",
       "      <td>240.0</td>\n",
       "      <td>722410.0</td>\n",
       "      <td>Drinking Places (Alcoholic Beverages)</td>\n",
       "      <td>1.0</td>\n",
       "      <td>NaN</td>\n",
       "      <td>NAPA</td>\n",
       "      <td>CA</td>\n",
       "      <td>SAN FRANCISCO DISTRICT OFFICE&lt;U+00A0&gt;</td>\n",
       "      <td>5.0</td>\n",
       "      <td>CORPORATION</td>\n",
       "      <td>PIF</td>\n",
       "      <td>NaN</td>\n",
       "      <td>0.0</td>\n",
       "      <td>NaN</td>\n",
       "      <td>25.0</td>\n",
       "      <td>NaN</td>\n",
       "      <td>NaN</td>\n",
       "      <td>NaN</td>\n",
       "      <td>NaN</td>\n",
       "    </tr>\n",
       "    <tr>\n",
       "      <th>2</th>\n",
       "      <td>5338.0</td>\n",
       "      <td>7A</td>\n",
       "      <td>BORDEAUX HOUSE</td>\n",
       "      <td>6600 WASHINGTON STREET</td>\n",
       "      <td>YOUNTVILLE</td>\n",
       "      <td>CA</td>\n",
       "      <td>94599.0</td>\n",
       "      <td>Bank of the West</td>\n",
       "      <td>180 Montgomery St</td>\n",
       "      <td>SAN FRANCISCO</td>\n",
       "      <td>CA</td>\n",
       "      <td>94104.0</td>\n",
       "      <td>527200.0</td>\n",
       "      <td>369040.0</td>\n",
       "      <td>5/5/1994</td>\n",
       "      <td>1994.0</td>\n",
       "      <td>7/31/1994</td>\n",
       "      <td>PLP</td>\n",
       "      <td>Guaranty</td>\n",
       "      <td>NaN</td>\n",
       "      <td>284.0</td>\n",
       "      <td>NaN</td>\n",
       "      <td>NaN</td>\n",
       "      <td>1.0</td>\n",
       "      <td>NaN</td>\n",
       "      <td>NAPA</td>\n",
       "      <td>CA</td>\n",
       "      <td>SAN FRANCISCO DISTRICT OFFICE&lt;U+00A0&gt;</td>\n",
       "      <td>5.0</td>\n",
       "      <td>INDIVIDUAL</td>\n",
       "      <td>PIF</td>\n",
       "      <td>NaN</td>\n",
       "      <td>0.0</td>\n",
       "      <td>0.0</td>\n",
       "      <td>0.0</td>\n",
       "      <td>NaN</td>\n",
       "      <td>NaN</td>\n",
       "      <td>NaN</td>\n",
       "      <td>NaN</td>\n",
       "    </tr>\n",
       "    <tr>\n",
       "      <th>3</th>\n",
       "      <td>5836.0</td>\n",
       "      <td>7A</td>\n",
       "      <td>VITA PARTNERS, LLC</td>\n",
       "      <td>6725 WASHINGTON STREET</td>\n",
       "      <td>YOUNTVILLE</td>\n",
       "      <td>CA</td>\n",
       "      <td>94599.0</td>\n",
       "      <td>First Republic Bank</td>\n",
       "      <td>111 Pine St</td>\n",
       "      <td>SAN FRANCISCO</td>\n",
       "      <td>CA</td>\n",
       "      <td>94111.0</td>\n",
       "      <td>800000.0</td>\n",
       "      <td>720000.0</td>\n",
       "      <td>7/14/2009</td>\n",
       "      <td>2009.0</td>\n",
       "      <td>NaN</td>\n",
       "      <td>PLP</td>\n",
       "      <td>Guaranty</td>\n",
       "      <td>5.5</td>\n",
       "      <td>120.0</td>\n",
       "      <td>722110.0</td>\n",
       "      <td>Full-Service Restaurants</td>\n",
       "      <td>0.0</td>\n",
       "      <td>NaN</td>\n",
       "      <td>NAPA</td>\n",
       "      <td>CA</td>\n",
       "      <td>SAN FRANCISCO DISTRICT OFFICE&lt;U+00A0&gt;</td>\n",
       "      <td>5.0</td>\n",
       "      <td>CORPORATION</td>\n",
       "      <td>CANCLD</td>\n",
       "      <td>NaN</td>\n",
       "      <td>0.0</td>\n",
       "      <td>0.0</td>\n",
       "      <td>85.0</td>\n",
       "      <td>NaN</td>\n",
       "      <td>NaN</td>\n",
       "      <td>NaN</td>\n",
       "      <td>NaN</td>\n",
       "    </tr>\n",
       "    <tr>\n",
       "      <th>4</th>\n",
       "      <td>12154.0</td>\n",
       "      <td>7A</td>\n",
       "      <td>NAPA VALLEY BIKE TOURS AND NAP</td>\n",
       "      <td>6488 WASHINGTON ST</td>\n",
       "      <td>YOUNTVILLE</td>\n",
       "      <td>CA</td>\n",
       "      <td>94599.0</td>\n",
       "      <td>Wells Fargo Bank, National Association</td>\n",
       "      <td>101 N Philips Ave</td>\n",
       "      <td>SIOUX FALLS</td>\n",
       "      <td>SD</td>\n",
       "      <td>57104.0</td>\n",
       "      <td>210000.0</td>\n",
       "      <td>157500.0</td>\n",
       "      <td>6/5/2007</td>\n",
       "      <td>2007.0</td>\n",
       "      <td>6/30/2007</td>\n",
       "      <td>PLP</td>\n",
       "      <td>Guaranty</td>\n",
       "      <td>NaN</td>\n",
       "      <td>120.0</td>\n",
       "      <td>561520.0</td>\n",
       "      <td>Tour Operators</td>\n",
       "      <td>1.0</td>\n",
       "      <td>NaN</td>\n",
       "      <td>NAPA</td>\n",
       "      <td>CA</td>\n",
       "      <td>SAN FRANCISCO DISTRICT OFFICE&lt;U+00A0&gt;</td>\n",
       "      <td>5.0</td>\n",
       "      <td>CORPORATION</td>\n",
       "      <td>PIF</td>\n",
       "      <td>NaN</td>\n",
       "      <td>0.0</td>\n",
       "      <td>0.0</td>\n",
       "      <td>8.0</td>\n",
       "      <td>NaN</td>\n",
       "      <td>NaN</td>\n",
       "      <td>NaN</td>\n",
       "      <td>NaN</td>\n",
       "    </tr>\n",
       "  </tbody>\n",
       "</table>\n",
       "</div>"
      ],
      "text/plain": [
       "    Column Program                        BorrName              BorrStreet  \\\n",
       "0   3098.0      7A            PER CASO PRODUCTIONS       6600 YOUNT ST #12   \n",
       "1   4752.0     504                 WINE GARDEN LLC  6476 WASHINGTON STREET   \n",
       "2   5338.0      7A                  BORDEAUX HOUSE  6600 WASHINGTON STREET   \n",
       "3   5836.0      7A              VITA PARTNERS, LLC  6725 WASHINGTON STREET   \n",
       "4  12154.0      7A  NAPA VALLEY BIKE TOURS AND NAP      6488 WASHINGTON ST   \n",
       "\n",
       "     BorrCity BorrState  BorrZip                                 BankName  \\\n",
       "0  YOUNTVILLE        CA  94599.0                             Bank of Hope   \n",
       "1  YOUNTVILLE        CA  94599.0  Bay Area Employment Development Company   \n",
       "2  YOUNTVILLE        CA  94599.0                         Bank of the West   \n",
       "3  YOUNTVILLE        CA  94599.0                      First Republic Bank   \n",
       "4  YOUNTVILLE        CA  94599.0   Wells Fargo Bank, National Association   \n",
       "\n",
       "                     BankStreet       BankCity BankState  BankZip  \\\n",
       "0  3731 Wilshire Blvd, Ste 1000    LOS ANGELES        CA  90010.0   \n",
       "1        1801 Oakland Boulevard   Walnut Creek        CA  94596.0   \n",
       "2             180 Montgomery St  SAN FRANCISCO        CA  94104.0   \n",
       "3                   111 Pine St  SAN FRANCISCO        CA  94111.0   \n",
       "4             101 N Philips Ave    SIOUX FALLS        SD  57104.0   \n",
       "\n",
       "   GrossApproval  SBAGuaranteedApproval ApprovalDate  ApprovalFiscalYear  \\\n",
       "0        15000.0                12750.0    9/19/2006              2006.0   \n",
       "1       881000.0                    NaN    9/22/2003              2003.0   \n",
       "2       527200.0               369040.0     5/5/1994              1994.0   \n",
       "3       800000.0               720000.0    7/14/2009              2009.0   \n",
       "4       210000.0               157500.0     6/5/2007              2007.0   \n",
       "\n",
       "  FirstDisbursementDate DeliveryMethod  \\\n",
       "0             9/30/2006     COMM EXPRS   \n",
       "1            11/17/2004            NaN   \n",
       "2             7/31/1994            PLP   \n",
       "3                   NaN            PLP   \n",
       "4             6/30/2007            PLP   \n",
       "\n",
       "                                          subpgmdesc  InitialInterestRate  \\\n",
       "0                                  Community Express                  NaN   \n",
       "1  Sec. 504 - Loan Guarantees - Private Sector Fi...                  NaN   \n",
       "2                                           Guaranty                  NaN   \n",
       "3                                           Guaranty                  5.5   \n",
       "4                                           Guaranty                  NaN   \n",
       "\n",
       "   TermInMonths  NaicsCode                       NaicsDescription  \\\n",
       "0          53.0   323119.0              Other Commercial Printing   \n",
       "1         240.0   722410.0  Drinking Places (Alcoholic Beverages)   \n",
       "2         284.0        NaN                                    NaN   \n",
       "3         120.0   722110.0               Full-Service Restaurants   \n",
       "4         120.0   561520.0                         Tour Operators   \n",
       "\n",
       "   FranchiseCode FranchiseName ProjectCounty ProjectState  \\\n",
       "0            0.0           NaN          NAPA           CA   \n",
       "1            1.0           NaN          NAPA           CA   \n",
       "2            1.0           NaN          NAPA           CA   \n",
       "3            0.0           NaN          NAPA           CA   \n",
       "4            1.0           NaN          NAPA           CA   \n",
       "\n",
       "                       SBADistrictOffice  CongressionalDistrict BusinessType  \\\n",
       "0  SAN FRANCISCO DISTRICT OFFICE<U+00A0>                    5.0   INDIVIDUAL   \n",
       "1  SAN FRANCISCO DISTRICT OFFICE<U+00A0>                    5.0  CORPORATION   \n",
       "2  SAN FRANCISCO DISTRICT OFFICE<U+00A0>                    5.0   INDIVIDUAL   \n",
       "3  SAN FRANCISCO DISTRICT OFFICE<U+00A0>                    5.0  CORPORATION   \n",
       "4  SAN FRANCISCO DISTRICT OFFICE<U+00A0>                    5.0  CORPORATION   \n",
       "\n",
       "  LoanStatus ChargeOffDate  GrossChargeOffAmount  RevolverStatus  \\\n",
       "0     CHGOFF     6/17/2009               11775.0             0.0   \n",
       "1        PIF           NaN                   0.0             NaN   \n",
       "2        PIF           NaN                   0.0             0.0   \n",
       "3     CANCLD           NaN                   0.0             0.0   \n",
       "4        PIF           NaN                   0.0             0.0   \n",
       "\n",
       "   JobsSupported ThirdPartyLender_Name ThirdPartyLender_City  \\\n",
       "0            2.0                   NaN                   NaN   \n",
       "1           25.0                   NaN                   NaN   \n",
       "2            0.0                   NaN                   NaN   \n",
       "3           85.0                   NaN                   NaN   \n",
       "4            8.0                   NaN                   NaN   \n",
       "\n",
       "  ThirdPartyLender_State  ThirdPartyDollars  \n",
       "0                    NaN                NaN  \n",
       "1                    NaN                NaN  \n",
       "2                    NaN                NaN  \n",
       "3                    NaN                NaN  \n",
       "4                    NaN                NaN  "
      ]
     },
     "execution_count": 26,
     "metadata": {},
     "output_type": "execute_result"
    }
   ],
   "source": [
    "df.head(5)"
   ]
  },
  {
   "cell_type": "code",
   "execution_count": 11,
   "metadata": {
    "collapsed": false
   },
   "outputs": [
    {
     "data": {
      "text/plain": [
       "LoanStatus       \n",
       "CANCLD      count     4512.000000\n",
       "            mean        10.077128\n",
       "            std         70.396957\n",
       "            min          0.000000\n",
       "            25%          0.000000\n",
       "            50%          3.000000\n",
       "            75%          9.000000\n",
       "            max       4492.000000\n",
       "CHGOFF      count     4851.000000\n",
       "            mean         7.348382\n",
       "            std         66.397095\n",
       "            min          0.000000\n",
       "            25%          1.000000\n",
       "            50%          3.000000\n",
       "            75%          7.000000\n",
       "            max       4492.000000\n",
       "COMMIT      count      666.000000\n",
       "            mean         6.046547\n",
       "            std         14.478377\n",
       "            min          0.000000\n",
       "            25%          0.000000\n",
       "            50%          2.000000\n",
       "            75%          6.000000\n",
       "            max        250.000000\n",
       "EXEMPT      count     9726.000000\n",
       "            mean        10.680547\n",
       "            std         20.528830\n",
       "            min          0.000000\n",
       "            25%          2.000000\n",
       "            50%          5.000000\n",
       "            75%         11.000000\n",
       "            max        650.000000\n",
       "NOT FUNDED  count      253.000000\n",
       "            mean        11.794466\n",
       "            std         18.273855\n",
       "            min          0.000000\n",
       "            25%          3.000000\n",
       "            50%          6.000000\n",
       "            75%         13.000000\n",
       "            max        142.000000\n",
       "PIF         count    24118.000000\n",
       "            mean         8.501451\n",
       "            std         63.873122\n",
       "            min          0.000000\n",
       "            25%          0.000000\n",
       "            50%          2.000000\n",
       "            75%          7.000000\n",
       "            max       7256.000000\n",
       "Name: JobsSupported, dtype: float64"
      ]
     },
     "execution_count": 11,
     "metadata": {},
     "output_type": "execute_result"
    }
   ],
   "source": [
    "df['JobsSupported'].groupby(df['LoanStatus']).describe()"
   ]
  },
  {
   "cell_type": "code",
   "execution_count": 12,
   "metadata": {
    "collapsed": false
   },
   "outputs": [],
   "source": [
    "df['paid_in_full'] = (df['LoanStatus'] == 'PIF')\n",
    "df['charged_off'] = (df['LoanStatus'] == 'CHGOFF')"
   ]
  },
  {
   "cell_type": "code",
   "execution_count": 13,
   "metadata": {
    "collapsed": false
   },
   "outputs": [
    {
     "data": {
      "text/html": [
       "<table class=\"simpletable\">\n",
       "<caption>OLS Regression Results</caption>\n",
       "<tr>\n",
       "  <th>Dep. Variable:</th>      <td>JobsSupported</td>  <th>  R-squared:         </th>  <td>   0.000</td>  \n",
       "</tr>\n",
       "<tr>\n",
       "  <th>Model:</th>                   <td>OLS</td>       <th>  Adj. R-squared:    </th>  <td>   0.000</td>  \n",
       "</tr>\n",
       "<tr>\n",
       "  <th>Method:</th>             <td>Least Squares</td>  <th>  F-statistic:       </th>  <td>   3.993</td>  \n",
       "</tr>\n",
       "<tr>\n",
       "  <th>Date:</th>             <td>Wed, 19 Apr 2017</td> <th>  Prob (F-statistic):</th>   <td>0.0457</td>   \n",
       "</tr>\n",
       "<tr>\n",
       "  <th>Time:</th>                 <td>20:16:11</td>     <th>  Log-Likelihood:    </th> <td>-2.4151e+05</td>\n",
       "</tr>\n",
       "<tr>\n",
       "  <th>No. Observations:</th>      <td> 44129</td>      <th>  AIC:               </th>  <td>4.830e+05</td> \n",
       "</tr>\n",
       "<tr>\n",
       "  <th>Df Residuals:</th>          <td> 44127</td>      <th>  BIC:               </th>  <td>4.830e+05</td> \n",
       "</tr>\n",
       "<tr>\n",
       "  <th>Df Model:</th>              <td>     1</td>      <th>                     </th>      <td> </td>     \n",
       "</tr>\n",
       "<tr>\n",
       "  <th>Covariance Type:</th>      <td>nonrobust</td>    <th>                     </th>      <td> </td>     \n",
       "</tr>\n",
       "</table>\n",
       "<table class=\"simpletable\">\n",
       "<tr>\n",
       "            <td></td>              <th>coef</th>     <th>std err</th>      <th>t</th>      <th>P>|t|</th> <th>[95.0% Conf. Int.]</th> \n",
       "</tr>\n",
       "<tr>\n",
       "  <th>Intercept</th>            <td>    9.6025</td> <td>    0.407</td> <td>   23.575</td> <td> 0.000</td> <td>    8.804    10.401</td>\n",
       "</tr>\n",
       "<tr>\n",
       "  <th>paid_in_full[T.True]</th> <td>   -1.1010</td> <td>    0.551</td> <td>   -1.998</td> <td> 0.046</td> <td>   -2.181    -0.021</td>\n",
       "</tr>\n",
       "</table>\n",
       "<table class=\"simpletable\">\n",
       "<tr>\n",
       "  <th>Omnibus:</th>       <td>162267.675</td> <th>  Durbin-Watson:     </th>     <td>   2.001</td>    \n",
       "</tr>\n",
       "<tr>\n",
       "  <th>Prob(Omnibus):</th>   <td> 0.000</td>   <th>  Jarque-Bera (JB):  </th> <td>116135763928.544</td>\n",
       "</tr>\n",
       "<tr>\n",
       "  <th>Skew:</th>            <td>78.874</td>   <th>  Prob(JB):          </th>     <td>    0.00</td>    \n",
       "</tr>\n",
       "<tr>\n",
       "  <th>Kurtosis:</th>       <td>7948.862</td>  <th>  Cond. No.          </th>     <td>    2.74</td>    \n",
       "</tr>\n",
       "</table>"
      ],
      "text/plain": [
       "<class 'statsmodels.iolib.summary.Summary'>\n",
       "\"\"\"\n",
       "                            OLS Regression Results                            \n",
       "==============================================================================\n",
       "Dep. Variable:          JobsSupported   R-squared:                       0.000\n",
       "Model:                            OLS   Adj. R-squared:                  0.000\n",
       "Method:                 Least Squares   F-statistic:                     3.993\n",
       "Date:                Wed, 19 Apr 2017   Prob (F-statistic):             0.0457\n",
       "Time:                        20:16:11   Log-Likelihood:            -2.4151e+05\n",
       "No. Observations:               44129   AIC:                         4.830e+05\n",
       "Df Residuals:                   44127   BIC:                         4.830e+05\n",
       "Df Model:                           1                                         \n",
       "Covariance Type:            nonrobust                                         \n",
       "========================================================================================\n",
       "                           coef    std err          t      P>|t|      [95.0% Conf. Int.]\n",
       "----------------------------------------------------------------------------------------\n",
       "Intercept                9.6025      0.407     23.575      0.000         8.804    10.401\n",
       "paid_in_full[T.True]    -1.1010      0.551     -1.998      0.046        -2.181    -0.021\n",
       "==============================================================================\n",
       "Omnibus:                   162267.675   Durbin-Watson:                   2.001\n",
       "Prob(Omnibus):                  0.000   Jarque-Bera (JB):     116135763928.544\n",
       "Skew:                          78.874   Prob(JB):                         0.00\n",
       "Kurtosis:                    7948.862   Cond. No.                         2.74\n",
       "==============================================================================\n",
       "\n",
       "Warnings:\n",
       "[1] Standard Errors assume that the covariance matrix of the errors is correctly specified.\n",
       "\"\"\""
      ]
     },
     "execution_count": 13,
     "metadata": {},
     "output_type": "execute_result"
    }
   ],
   "source": [
    "formula = 'JobsSupported ~ paid_in_full'\n",
    "results = smf.ols(formula, data=df).fit()\n",
    "results.summary()"
   ]
  },
  {
   "cell_type": "code",
   "execution_count": 16,
   "metadata": {
    "collapsed": false
   },
   "outputs": [
    {
     "data": {
      "text/plain": [
       "<matplotlib.collections.PathCollection at 0x10f7d39b0>"
      ]
     },
     "execution_count": 16,
     "metadata": {},
     "output_type": "execute_result"
    },
    {
     "data": {
      "image/png": "[encoded data removed]",
      "text/plain": [
       "<matplotlib.figure.Figure at 0x111eb1780>"
      ]
     },
     "metadata": {},
     "output_type": "display_data"
    }
   ],
   "source": [
    "plt.scatter(x=df.InitialInterestRate, y=df.JobsSupported)"
   ]
  },
  {
   "cell_type": "markdown",
   "metadata": {
    "collapsed": true
   },
   "source": [
    "# Creating the metric"
   ]
  },
  {
   "cell_type": "markdown",
   "metadata": {},
   "source": [
    "First, we need to group the SBA data set by unit of geography (we'll do city)"
   ]
  },
  {
   "cell_type": "code",
   "execution_count": 42,
   "metadata": {
    "collapsed": false
   },
   "outputs": [],
   "source": [
    "df = df.groupby(['BorrCity']).size().to_frame('number_of_loans')"
   ]
  },
  {
   "cell_type": "code",
   "execution_count": 45,
   "metadata": {
    "collapsed": false
   },
   "outputs": [],
   "source": [
    "df.reset_index(level=0, inplace=True)\n",
    "df.BorrCity = df.BorrCity.str.lower()\n",
    "city_profile.Name = city_profile.Name.str.lower()"
   ]
  },
  {
   "cell_type": "code",
   "execution_count": 49,
   "metadata": {
    "collapsed": true
   },
   "outputs": [],
   "source": [
    "combined = city_profile.merge(df, left_on=['Name'], right_on=['BorrCity'])\n",
    "combined['service_metric'] = combined.number_of_loans / combined['# of businesses (census community survey)']\n",
    "#businesses = businesses.reset_index()\n",
    "#businesses.columns = businesses.columns.get_level_values(0)"
   ]
  },
  {
   "cell_type": "code",
   "execution_count": 51,
   "metadata": {
    "collapsed": false
   },
   "outputs": [],
   "source": [
    "combined = combined[['Name', 'City-Lat', 'City-Lon', 'service_metric']]"
   ]
  },
  {
   "cell_type": "code",
   "execution_count": 53,
   "metadata": {
    "collapsed": false
   },
   "outputs": [
    {
     "data": {
      "text/html": [
       "<div>\n",
       "<table border=\"1\" class=\"dataframe\">\n",
       "  <thead>\n",
       "    <tr style=\"text-align: right;\">\n",
       "      <th></th>\n",
       "      <th>Name</th>\n",
       "      <th>City-Lat</th>\n",
       "      <th>City-Lon</th>\n",
       "      <th>service_metric</th>\n",
       "    </tr>\n",
       "  </thead>\n",
       "  <tbody>\n",
       "    <tr>\n",
       "      <th>0</th>\n",
       "      <td>blue lake</td>\n",
       "      <td>40.88291</td>\n",
       "      <td>-123.98395</td>\n",
       "      <td>0.560000</td>\n",
       "    </tr>\n",
       "    <tr>\n",
       "      <th>1</th>\n",
       "      <td>point arena</td>\n",
       "      <td>38.90880</td>\n",
       "      <td>-123.69307</td>\n",
       "      <td>0.081081</td>\n",
       "    </tr>\n",
       "    <tr>\n",
       "      <th>2</th>\n",
       "      <td>rio dell</td>\n",
       "      <td>40.49930</td>\n",
       "      <td>-124.10644</td>\n",
       "      <td>0.166667</td>\n",
       "    </tr>\n",
       "    <tr>\n",
       "      <th>3</th>\n",
       "      <td>trinidad</td>\n",
       "      <td>41.05929</td>\n",
       "      <td>-124.14312</td>\n",
       "      <td>0.183673</td>\n",
       "    </tr>\n",
       "    <tr>\n",
       "      <th>4</th>\n",
       "      <td>ross</td>\n",
       "      <td>37.96242</td>\n",
       "      <td>-122.55498</td>\n",
       "      <td>0.035088</td>\n",
       "    </tr>\n",
       "  </tbody>\n",
       "</table>\n",
       "</div>"
      ],
      "text/plain": [
       "          Name  City-Lat   City-Lon  service_metric\n",
       "0    blue lake  40.88291 -123.98395        0.560000\n",
       "1  point arena  38.90880 -123.69307        0.081081\n",
       "2     rio dell  40.49930 -124.10644        0.166667\n",
       "3     trinidad  41.05929 -124.14312        0.183673\n",
       "4         ross  37.96242 -122.55498        0.035088"
      ]
     },
     "execution_count": 53,
     "metadata": {},
     "output_type": "execute_result"
    }
   ],
   "source": [
    "combined.head()"
   ]
  },
  {
   "cell_type": "code",
   "execution_count": 54,
   "metadata": {
    "collapsed": true
   },
   "outputs": [],
   "source": [
    "combined.to_csv('./data/test_metric.csv')"
   ]
  },
  {
   "cell_type": "code",
   "execution_count": null,
   "metadata": {
    "collapsed": true
   },
   "outputs": [],
   "source": []
  }
 ],
 "metadata": {
  "kernelspec": {
   "display_name": "Python 3",
   "language": "python",
   "name": "python3"
  },
  "language_info": {
   "codemirror_mode": {
    "name": "ipython",
    "version": 3
   },
   "file_extension": ".py",
   "mimetype": "text/x-python",
   "name": "python",
   "nbconvert_exporter": "python",
   "pygments_lexer": "ipython3",
   "version": "3.5.1"
  }
 },
 "nbformat": 4,
 "nbformat_minor": 0
}
