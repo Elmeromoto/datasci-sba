{
 "cells": [
  {
   "cell_type": "markdown",
   "metadata": {},
   "source": [
    "# Geocoding Loan Dataset"
   ]
  },
  {
   "cell_type": "markdown",
   "metadata": {},
   "source": [
    "We'll be using this: https://github.com/slimkrazy/python-google-places#python-google-places to geocode addresses in our loan data set."
   ]
  },
  {
   "cell_type": "markdown",
   "metadata": {},
   "source": [
    "First thing will be to successully geocode one address"
   ]
  },
  {
   "cell_type": "code",
   "execution_count": 4,
   "metadata": {
    "collapsed": true
   },
   "outputs": [],
   "source": [
    "import os\n",
    "\n",
    "from googleplaces import GooglePlaces, types, lang"
   ]
  },
  {
   "cell_type": "code",
   "execution_count": 7,
   "metadata": {
    "collapsed": false
   },
   "outputs": [],
   "source": [
    "YOUR_API_KEY = os.getenv('GOOGLE_PLACES_API')"
   ]
  },
  {
   "cell_type": "code",
   "execution_count": 60,
   "metadata": {
    "collapsed": false
   },
   "outputs": [],
   "source": [
    "google_places = GooglePlaces(YOUR_API_KEY)\n",
    "\n",
    "# You may prefer to use the text_search API, instead.\n",
    "# query_result = google_places.nearby_search(\n",
    "#         location='San Francisco, California', keyword='Starbucks',\n",
    "#         radius=20000, types=[types.TYPE_FOOD])\n",
    "\n",
    "query_result = google_places.nearby_search(\n",
    "        location='6600 Young St, Yountville, CA, 94599',\n",
    "        radius=100)\n",
    "# If types param contains only 1 item the request to Google Places API\n",
    "# will be send as type param to fullfil:\n",
    "# http://googlegeodevelopers.blogspot.com.au/2016/02/changes-and-quality-improvements-in_16.html"
   ]
  },
  {
   "cell_type": "code",
   "execution_count": 61,
   "metadata": {
    "collapsed": false
   },
   "outputs": [
    {
     "data": {
      "text/plain": [
       "[<Place name=\"Yountville\", lat=38.40157809999999, lng=-122.3608105>,\n",
       " <Place name=\"Lavender, A Four Sisters Inn\", lat=38.404419, lng=-122.363455>,\n",
       " <Place name=\"Yountville Community Church\", lat=38.4047808, lng=-122.3628015>,\n",
       " <Place name=\"Passport Advisory Inc\", lat=38.4051069, lng=-122.363289>,\n",
       " <Place name=\"Yountville Elementary School\", lat=38.4042505, lng=-122.3618476>,\n",
       " <Place name=\"Wine Country Day Preschool\", lat=38.4042505, lng=-122.3618476>]"
      ]
     },
     "execution_count": 61,
     "metadata": {},
     "output_type": "execute_result"
    }
   ],
   "source": [
    "query_result.places"
   ]
  },
  {
   "cell_type": "code",
   "execution_count": null,
   "metadata": {
    "collapsed": true
   },
   "outputs": [],
   "source": [
    "google_places."
   ]
  }
 ],
 "metadata": {
  "kernelspec": {
   "display_name": "Python 3",
   "language": "python",
   "name": "python3"
  },
  "language_info": {
   "codemirror_mode": {
    "name": "ipython",
    "version": 3
   },
   "file_extension": ".py",
   "mimetype": "text/x-python",
   "name": "python",
   "nbconvert_exporter": "python",
   "pygments_lexer": "ipython3",
   "version": "3.6.0"
  }
 },
 "nbformat": 4,
 "nbformat_minor": 2
}
