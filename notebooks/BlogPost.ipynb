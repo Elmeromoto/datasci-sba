{
 "cells": [
  {
   "cell_type": "markdown",
   "metadata": {},
   "source": [
    "# Supporting America's Small Businesses"
   ]
  },
  {
   "cell_type": "markdown",
   "metadata": {},
   "source": [
    "The Data Science Working Group of San Francisco has partnered with the San Francisco District Office (SFDO) of the Small Business Administration (SBA) to tackle several questions. In particular, we were tasked with identifying areas that were underserved by the Small Business Administration to help the SFDO more effectively allocate their resources. We also wanted to better visualize the businesses that have utilized SBA resources so that city officials could better identify which businesses in their region have been helped by the SBA and have become major success stories."
   ]
  },
  {
   "cell_type": "markdown",
   "metadata": {},
   "source": [
    "The SBA is a public/private partnership. The SBA is a federal government agency, albeit fairly decentralized. In particular, business owners very rarely interact directly with the SBA. For example, a business owner will still go to a bank to get a loan backed by the SBA (as opposed to going directly into an SBA office to get a loan). Another example would be business owners might go to a non-profit funded by an SBA to get counseling. The SBA is engaged with in business support in three primary areas:\n",
    "\n",
    "1. Finance\n",
    "2. Education\n",
    "3. Disaster Relief\n",
    "\n",
    "In addition, the SBA provides other services such as: counseling, incubator spaces, mentoring, and contracting (helping small businesses with federal government. By law 23 % of federal government contracts are reserved for small businesses). The SBA district office plays a compliance role (making sure partners live up to agreement). They also make the case of SBA programs and bring in new partners. Ideally, we want to be able to identify successful, popular businesses that benefited from SBA programs."
   ]
  },
  {
   "cell_type": "markdown",
   "metadata": {},
   "source": [
    "## Exploring the Data"
   ]
  },
  {
   "cell_type": "code",
   "execution_count": 1,
   "metadata": {
    "collapsed": true
   },
   "outputs": [],
   "source": [
    "# This is where we will load the data set and produce some basic summary statistics.\n",
    "# For example, we might be interested in:\n",
    "# 1. Counties served by the SFDO\n",
    "# 2. How many loans per county per year were given out\n",
    "# 3. Break out loans by loan status (discharged, paid off, etc.)\n",
    "# 4. Do some basic correlations with demographic characteristics from Census Data"
   ]
  },
  {
   "cell_type": "markdown",
   "metadata": {},
   "source": [
    "## Analysis and Data Visualization"
   ]
  },
  {
   "cell_type": "code",
   "execution_count": null,
   "metadata": {
    "collapsed": true
   },
   "outputs": [],
   "source": [
    "# This is where we might put some more advanced analysis and data visualizations\n",
    "# For example, we might be interested in:\n",
    "# 1. Doing some basic regression analysis on racial demographics? Evidence of discrimination?\n",
    "# 2. Some nice maps"
   ]
  },
  {
   "cell_type": "markdown",
   "metadata": {},
   "source": [
    "## Conclusion"
   ]
  },
  {
   "cell_type": "code",
   "execution_count": null,
   "metadata": {
    "collapsed": true
   },
   "outputs": [],
   "source": [
    "# What are some overall conclusions? What did we take away?"
   ]
  }
 ],
 "metadata": {
  "kernelspec": {
   "display_name": "Python 3",
   "language": "python",
   "name": "python3"
  },
  "language_info": {
   "codemirror_mode": {
    "name": "ipython",
    "version": 3
   },
   "file_extension": ".py",
   "mimetype": "text/x-python",
   "name": "python",
   "nbconvert_exporter": "python",
   "pygments_lexer": "ipython3",
   "version": "3.6.0"
  }
 },
 "nbformat": 4,
 "nbformat_minor": 2
}
